{
  "cells": [
    {
      "cell_type": "markdown",
      "source": [
        "# setting"
      ],
      "metadata": {
        "id": "8K_3rnJembd0"
      }
    },
    {
      "cell_type": "code",
      "execution_count": 1,
      "metadata": {
        "id": "QjKtRHAPTD1J",
        "colab": {
          "base_uri": "https://localhost:8080/"
        },
        "outputId": "995464d6-f4ad-434f-a02e-9903763509d9"
      },
      "outputs": [
        {
          "output_type": "stream",
          "name": "stdout",
          "text": [
            "Mounted at /content/drive\n"
          ]
        }
      ],
      "source": [
        "from google.colab import drive\n",
        "drive.mount('/content/drive')"
      ]
    },
    {
      "cell_type": "code",
      "execution_count": 2,
      "metadata": {
        "id": "3bSuJph_Shrq",
        "colab": {
          "base_uri": "https://localhost:8080/"
        },
        "outputId": "dc673d06-5617-4706-a368-600c2770573d"
      },
      "outputs": [
        {
          "output_type": "stream",
          "name": "stdout",
          "text": [
            "Collecting sentence_transformers\n",
            "  Downloading sentence-transformers-2.2.2.tar.gz (85 kB)\n",
            "\u001b[2K     \u001b[90m━━━━━━━━━━━━━━━━━━━━━━━━━━━━━━━━━━━━━━━━\u001b[0m \u001b[32m86.0/86.0 kB\u001b[0m \u001b[31m1.6 MB/s\u001b[0m eta \u001b[36m0:00:00\u001b[0m\n",
            "\u001b[?25h  Preparing metadata (setup.py) ... \u001b[?25l\u001b[?25hdone\n",
            "Collecting datasets\n",
            "  Downloading datasets-2.15.0-py3-none-any.whl (521 kB)\n",
            "\u001b[2K     \u001b[90m━━━━━━━━━━━━━━━━━━━━━━━━━━━━━━━━━━━━━━━━\u001b[0m \u001b[32m521.2/521.2 kB\u001b[0m \u001b[31m20.2 MB/s\u001b[0m eta \u001b[36m0:00:00\u001b[0m\n",
            "\u001b[?25hRequirement already satisfied: transformers<5.0.0,>=4.6.0 in /usr/local/lib/python3.10/dist-packages (from sentence_transformers) (4.35.2)\n",
            "Requirement already satisfied: tqdm in /usr/local/lib/python3.10/dist-packages (from sentence_transformers) (4.66.1)\n",
            "Requirement already satisfied: torch>=1.6.0 in /usr/local/lib/python3.10/dist-packages (from sentence_transformers) (2.1.0+cu118)\n",
            "Requirement already satisfied: torchvision in /usr/local/lib/python3.10/dist-packages (from sentence_transformers) (0.16.0+cu118)\n",
            "Requirement already satisfied: numpy in /usr/local/lib/python3.10/dist-packages (from sentence_transformers) (1.23.5)\n",
            "Requirement already satisfied: scikit-learn in /usr/local/lib/python3.10/dist-packages (from sentence_transformers) (1.2.2)\n",
            "Requirement already satisfied: scipy in /usr/local/lib/python3.10/dist-packages (from sentence_transformers) (1.11.3)\n",
            "Requirement already satisfied: nltk in /usr/local/lib/python3.10/dist-packages (from sentence_transformers) (3.8.1)\n",
            "Collecting sentencepiece (from sentence_transformers)\n",
            "  Downloading sentencepiece-0.1.99-cp310-cp310-manylinux_2_17_x86_64.manylinux2014_x86_64.whl (1.3 MB)\n",
            "\u001b[2K     \u001b[90m━━━━━━━━━━━━━━━━━━━━━━━━━━━━━━━━━━━━━━━━\u001b[0m \u001b[32m1.3/1.3 MB\u001b[0m \u001b[31m35.3 MB/s\u001b[0m eta \u001b[36m0:00:00\u001b[0m\n",
            "\u001b[?25hRequirement already satisfied: huggingface-hub>=0.4.0 in /usr/local/lib/python3.10/dist-packages (from sentence_transformers) (0.19.3)\n",
            "Requirement already satisfied: pyarrow>=8.0.0 in /usr/local/lib/python3.10/dist-packages (from datasets) (9.0.0)\n",
            "Collecting pyarrow-hotfix (from datasets)\n",
            "  Downloading pyarrow_hotfix-0.5-py3-none-any.whl (7.8 kB)\n",
            "Collecting dill<0.3.8,>=0.3.0 (from datasets)\n",
            "  Downloading dill-0.3.7-py3-none-any.whl (115 kB)\n",
            "\u001b[2K     \u001b[90m━━━━━━━━━━━━━━━━━━━━━━━━━━━━━━━━━━━━━━━━\u001b[0m \u001b[32m115.3/115.3 kB\u001b[0m \u001b[31m13.0 MB/s\u001b[0m eta \u001b[36m0:00:00\u001b[0m\n",
            "\u001b[?25hRequirement already satisfied: pandas in /usr/local/lib/python3.10/dist-packages (from datasets) (1.5.3)\n",
            "Requirement already satisfied: requests>=2.19.0 in /usr/local/lib/python3.10/dist-packages (from datasets) (2.31.0)\n",
            "Requirement already satisfied: xxhash in /usr/local/lib/python3.10/dist-packages (from datasets) (3.4.1)\n",
            "Collecting multiprocess (from datasets)\n",
            "  Downloading multiprocess-0.70.15-py310-none-any.whl (134 kB)\n",
            "\u001b[2K     \u001b[90m━━━━━━━━━━━━━━━━━━━━━━━━━━━━━━━━━━━━━━━━\u001b[0m \u001b[32m134.8/134.8 kB\u001b[0m \u001b[31m13.6 MB/s\u001b[0m eta \u001b[36m0:00:00\u001b[0m\n",
            "\u001b[?25hRequirement already satisfied: fsspec[http]<=2023.10.0,>=2023.1.0 in /usr/local/lib/python3.10/dist-packages (from datasets) (2023.6.0)\n",
            "Requirement already satisfied: aiohttp in /usr/local/lib/python3.10/dist-packages (from datasets) (3.8.6)\n",
            "Requirement already satisfied: packaging in /usr/local/lib/python3.10/dist-packages (from datasets) (23.2)\n",
            "Requirement already satisfied: pyyaml>=5.1 in /usr/local/lib/python3.10/dist-packages (from datasets) (6.0.1)\n",
            "Requirement already satisfied: attrs>=17.3.0 in /usr/local/lib/python3.10/dist-packages (from aiohttp->datasets) (23.1.0)\n",
            "Requirement already satisfied: charset-normalizer<4.0,>=2.0 in /usr/local/lib/python3.10/dist-packages (from aiohttp->datasets) (3.3.2)\n",
            "Requirement already satisfied: multidict<7.0,>=4.5 in /usr/local/lib/python3.10/dist-packages (from aiohttp->datasets) (6.0.4)\n",
            "Requirement already satisfied: async-timeout<5.0,>=4.0.0a3 in /usr/local/lib/python3.10/dist-packages (from aiohttp->datasets) (4.0.3)\n",
            "Requirement already satisfied: yarl<2.0,>=1.0 in /usr/local/lib/python3.10/dist-packages (from aiohttp->datasets) (1.9.2)\n",
            "Requirement already satisfied: frozenlist>=1.1.1 in /usr/local/lib/python3.10/dist-packages (from aiohttp->datasets) (1.4.0)\n",
            "Requirement already satisfied: aiosignal>=1.1.2 in /usr/local/lib/python3.10/dist-packages (from aiohttp->datasets) (1.3.1)\n",
            "Requirement already satisfied: filelock in /usr/local/lib/python3.10/dist-packages (from huggingface-hub>=0.4.0->sentence_transformers) (3.13.1)\n",
            "Requirement already satisfied: typing-extensions>=3.7.4.3 in /usr/local/lib/python3.10/dist-packages (from huggingface-hub>=0.4.0->sentence_transformers) (4.5.0)\n",
            "Requirement already satisfied: idna<4,>=2.5 in /usr/local/lib/python3.10/dist-packages (from requests>=2.19.0->datasets) (3.4)\n",
            "Requirement already satisfied: urllib3<3,>=1.21.1 in /usr/local/lib/python3.10/dist-packages (from requests>=2.19.0->datasets) (2.0.7)\n",
            "Requirement already satisfied: certifi>=2017.4.17 in /usr/local/lib/python3.10/dist-packages (from requests>=2.19.0->datasets) (2023.7.22)\n",
            "Requirement already satisfied: sympy in /usr/local/lib/python3.10/dist-packages (from torch>=1.6.0->sentence_transformers) (1.12)\n",
            "Requirement already satisfied: networkx in /usr/local/lib/python3.10/dist-packages (from torch>=1.6.0->sentence_transformers) (3.2.1)\n",
            "Requirement already satisfied: jinja2 in /usr/local/lib/python3.10/dist-packages (from torch>=1.6.0->sentence_transformers) (3.1.2)\n",
            "Requirement already satisfied: triton==2.1.0 in /usr/local/lib/python3.10/dist-packages (from torch>=1.6.0->sentence_transformers) (2.1.0)\n",
            "Requirement already satisfied: regex!=2019.12.17 in /usr/local/lib/python3.10/dist-packages (from transformers<5.0.0,>=4.6.0->sentence_transformers) (2023.6.3)\n",
            "Requirement already satisfied: tokenizers<0.19,>=0.14 in /usr/local/lib/python3.10/dist-packages (from transformers<5.0.0,>=4.6.0->sentence_transformers) (0.15.0)\n",
            "Requirement already satisfied: safetensors>=0.3.1 in /usr/local/lib/python3.10/dist-packages (from transformers<5.0.0,>=4.6.0->sentence_transformers) (0.4.0)\n",
            "Requirement already satisfied: click in /usr/local/lib/python3.10/dist-packages (from nltk->sentence_transformers) (8.1.7)\n",
            "Requirement already satisfied: joblib in /usr/local/lib/python3.10/dist-packages (from nltk->sentence_transformers) (1.3.2)\n",
            "Requirement already satisfied: python-dateutil>=2.8.1 in /usr/local/lib/python3.10/dist-packages (from pandas->datasets) (2.8.2)\n",
            "Requirement already satisfied: pytz>=2020.1 in /usr/local/lib/python3.10/dist-packages (from pandas->datasets) (2023.3.post1)\n",
            "Requirement already satisfied: threadpoolctl>=2.0.0 in /usr/local/lib/python3.10/dist-packages (from scikit-learn->sentence_transformers) (3.2.0)\n",
            "Requirement already satisfied: pillow!=8.3.*,>=5.3.0 in /usr/local/lib/python3.10/dist-packages (from torchvision->sentence_transformers) (9.4.0)\n",
            "Requirement already satisfied: six>=1.5 in /usr/local/lib/python3.10/dist-packages (from python-dateutil>=2.8.1->pandas->datasets) (1.16.0)\n",
            "Requirement already satisfied: MarkupSafe>=2.0 in /usr/local/lib/python3.10/dist-packages (from jinja2->torch>=1.6.0->sentence_transformers) (2.1.3)\n",
            "Requirement already satisfied: mpmath>=0.19 in /usr/local/lib/python3.10/dist-packages (from sympy->torch>=1.6.0->sentence_transformers) (1.3.0)\n",
            "Building wheels for collected packages: sentence_transformers\n",
            "  Building wheel for sentence_transformers (setup.py) ... \u001b[?25l\u001b[?25hdone\n",
            "  Created wheel for sentence_transformers: filename=sentence_transformers-2.2.2-py3-none-any.whl size=125923 sha256=0bb9ea74aa93da1d9fa7ae6c7a0efa2d62f489a6bd205f0f09b2ec2ed08ce1c9\n",
            "  Stored in directory: /root/.cache/pip/wheels/62/f2/10/1e606fd5f02395388f74e7462910fe851042f97238cbbd902f\n",
            "Successfully built sentence_transformers\n",
            "Installing collected packages: sentencepiece, pyarrow-hotfix, dill, multiprocess, datasets, sentence_transformers\n",
            "Successfully installed datasets-2.15.0 dill-0.3.7 multiprocess-0.70.15 pyarrow-hotfix-0.5 sentence_transformers-2.2.2 sentencepiece-0.1.99\n"
          ]
        }
      ],
      "source": [
        "! pip install sentence_transformers datasets"
      ]
    },
    {
      "cell_type": "code",
      "execution_count": 58,
      "metadata": {
        "id": "efzdo-qpSoO6"
      },
      "outputs": [],
      "source": [
        "# import\n",
        "\n",
        "import random\n",
        "import math\n",
        "import numpy as np\n",
        "import logging\n",
        "from datetime import datetime\n",
        "import pandas as pd\n",
        "import os\n",
        "import csv\n",
        "from typing import List, Union\n",
        "from tqdm.autonotebook import trange\n",
        "\n",
        "import torch\n",
        "from torch import nn\n",
        "from torch.utils.tensorboard import SummaryWriter\n",
        "from datasets import load_dataset\n",
        "from torch.utils.data import Dataset, DataLoader, random_split\n",
        "from sentence_transformers import SentenceTransformer, models, LoggingHandler, losses, util, SentencesDataset\n",
        "from sentence_transformers.evaluation import SentenceEvaluator, TripletEvaluator\n",
        "from sentence_transformers.readers import InputExample\n",
        "from sentence_transformers.datasets import NoDuplicatesDataLoader"
      ]
    },
    {
      "cell_type": "markdown",
      "source": [
        "# dataset"
      ],
      "metadata": {
        "id": "1i5bpu_dmjbX"
      }
    },
    {
      "cell_type": "code",
      "execution_count": 10,
      "metadata": {
        "colab": {
          "base_uri": "https://localhost:8080/",
          "height": 424
        },
        "id": "OzyonYHLSyYA",
        "outputId": "55067a25-9ba7-4953-b620-7498a115fbe3"
      },
      "outputs": [
        {
          "output_type": "execute_result",
          "data": {
            "text/plain": [
              "                                              sentence1  \\\n",
              "0     생산자가 없어진다면 생산자를 먹는 소비자는 먹이가 없어서 죽게 되고, 그 다음 단계...   \n",
              "1     생산자가 없어진다면 생산자를 먹는 소비자는 먹이가 없어서 죽게 되고, 그 다음 단계...   \n",
              "2     생산자가 없어진다면 생산자를 먹는 소비자는 먹이가 없어서 죽게 되고, 그 다음 단계...   \n",
              "3     생산자가 없어진다면 생산자를 먹는 소비자는 먹이가 없어서 죽게 되고, 그 다음 단계...   \n",
              "4     생산자가 없어진다면 생산자를 먹는 소비자는 먹이가 없어서 죽게 되고, 그 다음 단계...   \n",
              "...                                                 ...   \n",
              "8721                                 부력에 의해 배를 띄울 수 있다.   \n",
              "8722                                 부력에 의해 배를 띄울 수 있다.   \n",
              "8723                                 부력에 의해 배를 띄울 수 있다.   \n",
              "8724                                 부력에 의해 배를 띄울 수 있다.   \n",
              "8725                                 부력에 의해 배를 띄울 수 있다.   \n",
              "\n",
              "                                              sentence2     gold_label  \n",
              "0     생산자가 없으면 소비자가 먹을 것이 없어 죽게되고 분해자도 소비자가 다 죽어 소비자...     entailment  \n",
              "1     생산자가 생태계에 없으면 소비자와 분해자가 먹을것을 못먹는다.못먹는 소비자와 분해자...     entailment  \n",
              "2     생산자가 있지 않으면 생산자를 먹는 동물도 그 동물을 먹는 동물도 굶게 되어 생태계...     entailment  \n",
              "3     생산자는 소비자와 분해자들에게 영양을 제공한다. 만약 생산자가 없다면 소비자는 영양...     entailment  \n",
              "4            생산자가 없으면 소비자와 분해자는 독립영양을 못하기 때문에 죽게되기 때문이다     entailment  \n",
              "...                                                 ...            ...  \n",
              "8721                                           물이 힘이있어서  contradiction  \n",
              "8722                                 파도를 이용하여 뜨게 하는것 같다  contradiction  \n",
              "8723                            물체를 띄우는 힘인 부력을 활용한 것이다.     entailment  \n",
              "8724            배는 부력의 원리로 뜨기 때문에 물을 사용하면 쉽게 이동시킬 수 있다.     entailment  \n",
              "8725                         부력의 원리로 배를 물 위에 띌 수 있게 한다.     entailment  \n",
              "\n",
              "[8726 rows x 3 columns]"
            ],
            "text/html": [
              "\n",
              "  <div id=\"df-8ea8399f-c504-4ca5-8120-62db486172ca\" class=\"colab-df-container\">\n",
              "    <div>\n",
              "<style scoped>\n",
              "    .dataframe tbody tr th:only-of-type {\n",
              "        vertical-align: middle;\n",
              "    }\n",
              "\n",
              "    .dataframe tbody tr th {\n",
              "        vertical-align: top;\n",
              "    }\n",
              "\n",
              "    .dataframe thead th {\n",
              "        text-align: right;\n",
              "    }\n",
              "</style>\n",
              "<table border=\"1\" class=\"dataframe\">\n",
              "  <thead>\n",
              "    <tr style=\"text-align: right;\">\n",
              "      <th></th>\n",
              "      <th>sentence1</th>\n",
              "      <th>sentence2</th>\n",
              "      <th>gold_label</th>\n",
              "    </tr>\n",
              "  </thead>\n",
              "  <tbody>\n",
              "    <tr>\n",
              "      <th>0</th>\n",
              "      <td>생산자가 없어진다면 생산자를 먹는 소비자는 먹이가 없어서 죽게 되고, 그 다음 단계...</td>\n",
              "      <td>생산자가 없으면 소비자가 먹을 것이 없어 죽게되고 분해자도 소비자가 다 죽어 소비자...</td>\n",
              "      <td>entailment</td>\n",
              "    </tr>\n",
              "    <tr>\n",
              "      <th>1</th>\n",
              "      <td>생산자가 없어진다면 생산자를 먹는 소비자는 먹이가 없어서 죽게 되고, 그 다음 단계...</td>\n",
              "      <td>생산자가 생태계에 없으면 소비자와 분해자가 먹을것을 못먹는다.못먹는 소비자와 분해자...</td>\n",
              "      <td>entailment</td>\n",
              "    </tr>\n",
              "    <tr>\n",
              "      <th>2</th>\n",
              "      <td>생산자가 없어진다면 생산자를 먹는 소비자는 먹이가 없어서 죽게 되고, 그 다음 단계...</td>\n",
              "      <td>생산자가 있지 않으면 생산자를 먹는 동물도 그 동물을 먹는 동물도 굶게 되어 생태계...</td>\n",
              "      <td>entailment</td>\n",
              "    </tr>\n",
              "    <tr>\n",
              "      <th>3</th>\n",
              "      <td>생산자가 없어진다면 생산자를 먹는 소비자는 먹이가 없어서 죽게 되고, 그 다음 단계...</td>\n",
              "      <td>생산자는 소비자와 분해자들에게 영양을 제공한다. 만약 생산자가 없다면 소비자는 영양...</td>\n",
              "      <td>entailment</td>\n",
              "    </tr>\n",
              "    <tr>\n",
              "      <th>4</th>\n",
              "      <td>생산자가 없어진다면 생산자를 먹는 소비자는 먹이가 없어서 죽게 되고, 그 다음 단계...</td>\n",
              "      <td>생산자가 없으면 소비자와 분해자는 독립영양을 못하기 때문에 죽게되기 때문이다</td>\n",
              "      <td>entailment</td>\n",
              "    </tr>\n",
              "    <tr>\n",
              "      <th>...</th>\n",
              "      <td>...</td>\n",
              "      <td>...</td>\n",
              "      <td>...</td>\n",
              "    </tr>\n",
              "    <tr>\n",
              "      <th>8721</th>\n",
              "      <td>부력에 의해 배를 띄울 수 있다.</td>\n",
              "      <td>물이 힘이있어서</td>\n",
              "      <td>contradiction</td>\n",
              "    </tr>\n",
              "    <tr>\n",
              "      <th>8722</th>\n",
              "      <td>부력에 의해 배를 띄울 수 있다.</td>\n",
              "      <td>파도를 이용하여 뜨게 하는것 같다</td>\n",
              "      <td>contradiction</td>\n",
              "    </tr>\n",
              "    <tr>\n",
              "      <th>8723</th>\n",
              "      <td>부력에 의해 배를 띄울 수 있다.</td>\n",
              "      <td>물체를 띄우는 힘인 부력을 활용한 것이다.</td>\n",
              "      <td>entailment</td>\n",
              "    </tr>\n",
              "    <tr>\n",
              "      <th>8724</th>\n",
              "      <td>부력에 의해 배를 띄울 수 있다.</td>\n",
              "      <td>배는 부력의 원리로 뜨기 때문에 물을 사용하면 쉽게 이동시킬 수 있다.</td>\n",
              "      <td>entailment</td>\n",
              "    </tr>\n",
              "    <tr>\n",
              "      <th>8725</th>\n",
              "      <td>부력에 의해 배를 띄울 수 있다.</td>\n",
              "      <td>부력의 원리로 배를 물 위에 띌 수 있게 한다.</td>\n",
              "      <td>entailment</td>\n",
              "    </tr>\n",
              "  </tbody>\n",
              "</table>\n",
              "<p>8726 rows × 3 columns</p>\n",
              "</div>\n",
              "    <div class=\"colab-df-buttons\">\n",
              "\n",
              "  <div class=\"colab-df-container\">\n",
              "    <button class=\"colab-df-convert\" onclick=\"convertToInteractive('df-8ea8399f-c504-4ca5-8120-62db486172ca')\"\n",
              "            title=\"Convert this dataframe to an interactive table.\"\n",
              "            style=\"display:none;\">\n",
              "\n",
              "  <svg xmlns=\"http://www.w3.org/2000/svg\" height=\"24px\" viewBox=\"0 -960 960 960\">\n",
              "    <path d=\"M120-120v-720h720v720H120Zm60-500h600v-160H180v160Zm220 220h160v-160H400v160Zm0 220h160v-160H400v160ZM180-400h160v-160H180v160Zm440 0h160v-160H620v160ZM180-180h160v-160H180v160Zm440 0h160v-160H620v160Z\"/>\n",
              "  </svg>\n",
              "    </button>\n",
              "\n",
              "  <style>\n",
              "    .colab-df-container {\n",
              "      display:flex;\n",
              "      gap: 12px;\n",
              "    }\n",
              "\n",
              "    .colab-df-convert {\n",
              "      background-color: #E8F0FE;\n",
              "      border: none;\n",
              "      border-radius: 50%;\n",
              "      cursor: pointer;\n",
              "      display: none;\n",
              "      fill: #1967D2;\n",
              "      height: 32px;\n",
              "      padding: 0 0 0 0;\n",
              "      width: 32px;\n",
              "    }\n",
              "\n",
              "    .colab-df-convert:hover {\n",
              "      background-color: #E2EBFA;\n",
              "      box-shadow: 0px 1px 2px rgba(60, 64, 67, 0.3), 0px 1px 3px 1px rgba(60, 64, 67, 0.15);\n",
              "      fill: #174EA6;\n",
              "    }\n",
              "\n",
              "    .colab-df-buttons div {\n",
              "      margin-bottom: 4px;\n",
              "    }\n",
              "\n",
              "    [theme=dark] .colab-df-convert {\n",
              "      background-color: #3B4455;\n",
              "      fill: #D2E3FC;\n",
              "    }\n",
              "\n",
              "    [theme=dark] .colab-df-convert:hover {\n",
              "      background-color: #434B5C;\n",
              "      box-shadow: 0px 1px 3px 1px rgba(0, 0, 0, 0.15);\n",
              "      filter: drop-shadow(0px 1px 2px rgba(0, 0, 0, 0.3));\n",
              "      fill: #FFFFFF;\n",
              "    }\n",
              "  </style>\n",
              "\n",
              "    <script>\n",
              "      const buttonEl =\n",
              "        document.querySelector('#df-8ea8399f-c504-4ca5-8120-62db486172ca button.colab-df-convert');\n",
              "      buttonEl.style.display =\n",
              "        google.colab.kernel.accessAllowed ? 'block' : 'none';\n",
              "\n",
              "      async function convertToInteractive(key) {\n",
              "        const element = document.querySelector('#df-8ea8399f-c504-4ca5-8120-62db486172ca');\n",
              "        const dataTable =\n",
              "          await google.colab.kernel.invokeFunction('convertToInteractive',\n",
              "                                                    [key], {});\n",
              "        if (!dataTable) return;\n",
              "\n",
              "        const docLinkHtml = 'Like what you see? Visit the ' +\n",
              "          '<a target=\"_blank\" href=https://colab.research.google.com/notebooks/data_table.ipynb>data table notebook</a>'\n",
              "          + ' to learn more about interactive tables.';\n",
              "        element.innerHTML = '';\n",
              "        dataTable['output_type'] = 'display_data';\n",
              "        await google.colab.output.renderOutput(dataTable, element);\n",
              "        const docLink = document.createElement('div');\n",
              "        docLink.innerHTML = docLinkHtml;\n",
              "        element.appendChild(docLink);\n",
              "      }\n",
              "    </script>\n",
              "  </div>\n",
              "\n",
              "\n",
              "<div id=\"df-4eb6c7d5-e857-44e7-a4b7-c0134beb6bfb\">\n",
              "  <button class=\"colab-df-quickchart\" onclick=\"quickchart('df-4eb6c7d5-e857-44e7-a4b7-c0134beb6bfb')\"\n",
              "            title=\"Suggest charts\"\n",
              "            style=\"display:none;\">\n",
              "\n",
              "<svg xmlns=\"http://www.w3.org/2000/svg\" height=\"24px\"viewBox=\"0 0 24 24\"\n",
              "     width=\"24px\">\n",
              "    <g>\n",
              "        <path d=\"M19 3H5c-1.1 0-2 .9-2 2v14c0 1.1.9 2 2 2h14c1.1 0 2-.9 2-2V5c0-1.1-.9-2-2-2zM9 17H7v-7h2v7zm4 0h-2V7h2v10zm4 0h-2v-4h2v4z\"/>\n",
              "    </g>\n",
              "</svg>\n",
              "  </button>\n",
              "\n",
              "<style>\n",
              "  .colab-df-quickchart {\n",
              "      --bg-color: #E8F0FE;\n",
              "      --fill-color: #1967D2;\n",
              "      --hover-bg-color: #E2EBFA;\n",
              "      --hover-fill-color: #174EA6;\n",
              "      --disabled-fill-color: #AAA;\n",
              "      --disabled-bg-color: #DDD;\n",
              "  }\n",
              "\n",
              "  [theme=dark] .colab-df-quickchart {\n",
              "      --bg-color: #3B4455;\n",
              "      --fill-color: #D2E3FC;\n",
              "      --hover-bg-color: #434B5C;\n",
              "      --hover-fill-color: #FFFFFF;\n",
              "      --disabled-bg-color: #3B4455;\n",
              "      --disabled-fill-color: #666;\n",
              "  }\n",
              "\n",
              "  .colab-df-quickchart {\n",
              "    background-color: var(--bg-color);\n",
              "    border: none;\n",
              "    border-radius: 50%;\n",
              "    cursor: pointer;\n",
              "    display: none;\n",
              "    fill: var(--fill-color);\n",
              "    height: 32px;\n",
              "    padding: 0;\n",
              "    width: 32px;\n",
              "  }\n",
              "\n",
              "  .colab-df-quickchart:hover {\n",
              "    background-color: var(--hover-bg-color);\n",
              "    box-shadow: 0 1px 2px rgba(60, 64, 67, 0.3), 0 1px 3px 1px rgba(60, 64, 67, 0.15);\n",
              "    fill: var(--button-hover-fill-color);\n",
              "  }\n",
              "\n",
              "  .colab-df-quickchart-complete:disabled,\n",
              "  .colab-df-quickchart-complete:disabled:hover {\n",
              "    background-color: var(--disabled-bg-color);\n",
              "    fill: var(--disabled-fill-color);\n",
              "    box-shadow: none;\n",
              "  }\n",
              "\n",
              "  .colab-df-spinner {\n",
              "    border: 2px solid var(--fill-color);\n",
              "    border-color: transparent;\n",
              "    border-bottom-color: var(--fill-color);\n",
              "    animation:\n",
              "      spin 1s steps(1) infinite;\n",
              "  }\n",
              "\n",
              "  @keyframes spin {\n",
              "    0% {\n",
              "      border-color: transparent;\n",
              "      border-bottom-color: var(--fill-color);\n",
              "      border-left-color: var(--fill-color);\n",
              "    }\n",
              "    20% {\n",
              "      border-color: transparent;\n",
              "      border-left-color: var(--fill-color);\n",
              "      border-top-color: var(--fill-color);\n",
              "    }\n",
              "    30% {\n",
              "      border-color: transparent;\n",
              "      border-left-color: var(--fill-color);\n",
              "      border-top-color: var(--fill-color);\n",
              "      border-right-color: var(--fill-color);\n",
              "    }\n",
              "    40% {\n",
              "      border-color: transparent;\n",
              "      border-right-color: var(--fill-color);\n",
              "      border-top-color: var(--fill-color);\n",
              "    }\n",
              "    60% {\n",
              "      border-color: transparent;\n",
              "      border-right-color: var(--fill-color);\n",
              "    }\n",
              "    80% {\n",
              "      border-color: transparent;\n",
              "      border-right-color: var(--fill-color);\n",
              "      border-bottom-color: var(--fill-color);\n",
              "    }\n",
              "    90% {\n",
              "      border-color: transparent;\n",
              "      border-bottom-color: var(--fill-color);\n",
              "    }\n",
              "  }\n",
              "</style>\n",
              "\n",
              "  <script>\n",
              "    async function quickchart(key) {\n",
              "      const quickchartButtonEl =\n",
              "        document.querySelector('#' + key + ' button');\n",
              "      quickchartButtonEl.disabled = true;  // To prevent multiple clicks.\n",
              "      quickchartButtonEl.classList.add('colab-df-spinner');\n",
              "      try {\n",
              "        const charts = await google.colab.kernel.invokeFunction(\n",
              "            'suggestCharts', [key], {});\n",
              "      } catch (error) {\n",
              "        console.error('Error during call to suggestCharts:', error);\n",
              "      }\n",
              "      quickchartButtonEl.classList.remove('colab-df-spinner');\n",
              "      quickchartButtonEl.classList.add('colab-df-quickchart-complete');\n",
              "    }\n",
              "    (() => {\n",
              "      let quickchartButtonEl =\n",
              "        document.querySelector('#df-4eb6c7d5-e857-44e7-a4b7-c0134beb6bfb button');\n",
              "      quickchartButtonEl.style.display =\n",
              "        google.colab.kernel.accessAllowed ? 'block' : 'none';\n",
              "    })();\n",
              "  </script>\n",
              "</div>\n",
              "    </div>\n",
              "  </div>\n"
            ]
          },
          "metadata": {},
          "execution_count": 10
        }
      ],
      "source": [
        "# wa3i 프로젝트 데이터\n",
        "wa3i_data = pd.read_csv('/content/drive/MyDrive/종설/dataset/science_wai.csv', usecols=['sentence1', 'sentence2', 'gold_label'])\n",
        "wa3i_data = wa3i_data.dropna(how='any')\n",
        "wa3i_data"
      ]
    },
    {
      "cell_type": "code",
      "source": [
        "# 직접 수집한 데이터\n",
        "custom_data = pd.read_csv('/content/drive/MyDrive/종설/dataset/science_workbook_custom.csv', usecols=['sentence1', 'sentence2', 'gold_label'])\n",
        "custom_data = custom_data.dropna(how='any')\n",
        "custom_data"
      ],
      "metadata": {
        "colab": {
          "base_uri": "https://localhost:8080/",
          "height": 424
        },
        "id": "SF_qLMhVg_HI",
        "outputId": "45d14a28-0eea-47b9-9ed7-6b188bb8994a"
      },
      "execution_count": 11,
      "outputs": [
        {
          "output_type": "execute_result",
          "data": {
            "text/plain": [
              "                                              sentence1  \\\n",
              "0      중력의 크기는 질량에 비례하고, 자유 낙하 운동에서 낙하 시간은 높이에 의해 결정된다.   \n",
              "1     중력 크기는 질량과 관련되어 있으며, 자유 낙하로 이동하는데 걸리는 시간은 출발 지...   \n",
              "2     중력 작용은 물체의 무게와 관련이 있고, 자유 낙하 동안 걸리는 시간은 높이에 좌우된다.   \n",
              "3     중력은 질량에 의해 결정되며 낙하 운동에서 높이는 낙하 시간을 결정하는 중요한 요소...   \n",
              "4     물체의 질량이 증가하면 중력의 힘도 증가합니다 낙하 운동에서 높이가 낮으면 물체가 ...   \n",
              "...                                                 ...   \n",
              "6389  높이가 같은 상태에서 자유 낙하한 물체와 수평으로 던진 물체는 동시에 도착하며, 중...   \n",
              "6390  같은 높이에서 자유 낙하한 물체와 수평으로 던진 물체는 동시에 도착하며, 중력은 연...   \n",
              "6391  같은 높이에서 자유 낙하한 물체와 수평으로 던진 물체는 동시에 도착하며, 중력은 연...   \n",
              "6392  높이가 같은 상태에서 자유 낙하한 물체와 수평으로 던진 물체는 동시에 도착하는데, ...   \n",
              "6393  높이가 같은 상태에서 자유 낙하한 물체와 수평으로 던진 물체는 동시에 도착하는데, ...   \n",
              "\n",
              "                                              sentence2     gold_label  \n",
              "0     중력의 크기는 질량에 비례하므로 무거운 물체일수록 큰 중력을 경험한다. 낙하 시간은...     entailment  \n",
              "1     중력의 크기는 질량에 비례하므로 무거운 물체일수록 큰 중력을 경험한다. 낙하 시간은...     entailment  \n",
              "2     중력의 크기는 질량에 비례하므로 무거운 물체일수록 큰 중력을 경험한다. 낙하 시간은...     entailment  \n",
              "3     중력의 크기는 질량에 비례하므로 무거운 물체일수록 큰 중력을 경험한다. 낙하 시간은...     entailment  \n",
              "4     중력의 크기는 질량에 비례하므로 무거운 물체일수록 큰 중력을 경험한다. 낙하 시간은...     entailment  \n",
              "...                                                 ...            ...  \n",
              "6389  같은 높이에서 자유 낙하한 쇠구슬은 바닥에 도달했지만, 수평으로 던진 쇠구슬은 아직...  contradiction  \n",
              "6390  같은 높이에서 자유 낙하한 쇠구슬과 수평으로 던진 쇠구슬은 동시에 도달하였다. 두 ...     entailment  \n",
              "6391  같은 높이에서 자유 낙하한 쇠구슬은 바닥에 도달했지만, 수평으로 던진 쇠구슬은 아직...  contradiction  \n",
              "6392  같은 높이에서 자유 낙하한 쇠구슬과 수평으로 던진 쇠구슬은 동시에 도달하였다. 두 ...     entailment  \n",
              "6393  같은 높이에서 자유 낙하한 쇠구슬은 바닥에 도달했지만, 수평으로 던진 쇠구슬은 아직...  contradiction  \n",
              "\n",
              "[6394 rows x 3 columns]"
            ],
            "text/html": [
              "\n",
              "  <div id=\"df-f802dd4a-8b3d-4033-8068-0f39fd8e7801\" class=\"colab-df-container\">\n",
              "    <div>\n",
              "<style scoped>\n",
              "    .dataframe tbody tr th:only-of-type {\n",
              "        vertical-align: middle;\n",
              "    }\n",
              "\n",
              "    .dataframe tbody tr th {\n",
              "        vertical-align: top;\n",
              "    }\n",
              "\n",
              "    .dataframe thead th {\n",
              "        text-align: right;\n",
              "    }\n",
              "</style>\n",
              "<table border=\"1\" class=\"dataframe\">\n",
              "  <thead>\n",
              "    <tr style=\"text-align: right;\">\n",
              "      <th></th>\n",
              "      <th>sentence1</th>\n",
              "      <th>sentence2</th>\n",
              "      <th>gold_label</th>\n",
              "    </tr>\n",
              "  </thead>\n",
              "  <tbody>\n",
              "    <tr>\n",
              "      <th>0</th>\n",
              "      <td>중력의 크기는 질량에 비례하고, 자유 낙하 운동에서 낙하 시간은 높이에 의해 결정된다.</td>\n",
              "      <td>중력의 크기는 질량에 비례하므로 무거운 물체일수록 큰 중력을 경험한다. 낙하 시간은...</td>\n",
              "      <td>entailment</td>\n",
              "    </tr>\n",
              "    <tr>\n",
              "      <th>1</th>\n",
              "      <td>중력 크기는 질량과 관련되어 있으며, 자유 낙하로 이동하는데 걸리는 시간은 출발 지...</td>\n",
              "      <td>중력의 크기는 질량에 비례하므로 무거운 물체일수록 큰 중력을 경험한다. 낙하 시간은...</td>\n",
              "      <td>entailment</td>\n",
              "    </tr>\n",
              "    <tr>\n",
              "      <th>2</th>\n",
              "      <td>중력 작용은 물체의 무게와 관련이 있고, 자유 낙하 동안 걸리는 시간은 높이에 좌우된다.</td>\n",
              "      <td>중력의 크기는 질량에 비례하므로 무거운 물체일수록 큰 중력을 경험한다. 낙하 시간은...</td>\n",
              "      <td>entailment</td>\n",
              "    </tr>\n",
              "    <tr>\n",
              "      <th>3</th>\n",
              "      <td>중력은 질량에 의해 결정되며 낙하 운동에서 높이는 낙하 시간을 결정하는 중요한 요소...</td>\n",
              "      <td>중력의 크기는 질량에 비례하므로 무거운 물체일수록 큰 중력을 경험한다. 낙하 시간은...</td>\n",
              "      <td>entailment</td>\n",
              "    </tr>\n",
              "    <tr>\n",
              "      <th>4</th>\n",
              "      <td>물체의 질량이 증가하면 중력의 힘도 증가합니다 낙하 운동에서 높이가 낮으면 물체가 ...</td>\n",
              "      <td>중력의 크기는 질량에 비례하므로 무거운 물체일수록 큰 중력을 경험한다. 낙하 시간은...</td>\n",
              "      <td>entailment</td>\n",
              "    </tr>\n",
              "    <tr>\n",
              "      <th>...</th>\n",
              "      <td>...</td>\n",
              "      <td>...</td>\n",
              "      <td>...</td>\n",
              "    </tr>\n",
              "    <tr>\n",
              "      <th>6389</th>\n",
              "      <td>높이가 같은 상태에서 자유 낙하한 물체와 수평으로 던진 물체는 동시에 도착하며, 중...</td>\n",
              "      <td>같은 높이에서 자유 낙하한 쇠구슬은 바닥에 도달했지만, 수평으로 던진 쇠구슬은 아직...</td>\n",
              "      <td>contradiction</td>\n",
              "    </tr>\n",
              "    <tr>\n",
              "      <th>6390</th>\n",
              "      <td>같은 높이에서 자유 낙하한 물체와 수평으로 던진 물체는 동시에 도착하며, 중력은 연...</td>\n",
              "      <td>같은 높이에서 자유 낙하한 쇠구슬과 수평으로 던진 쇠구슬은 동시에 도달하였다. 두 ...</td>\n",
              "      <td>entailment</td>\n",
              "    </tr>\n",
              "    <tr>\n",
              "      <th>6391</th>\n",
              "      <td>같은 높이에서 자유 낙하한 물체와 수평으로 던진 물체는 동시에 도착하며, 중력은 연...</td>\n",
              "      <td>같은 높이에서 자유 낙하한 쇠구슬은 바닥에 도달했지만, 수평으로 던진 쇠구슬은 아직...</td>\n",
              "      <td>contradiction</td>\n",
              "    </tr>\n",
              "    <tr>\n",
              "      <th>6392</th>\n",
              "      <td>높이가 같은 상태에서 자유 낙하한 물체와 수평으로 던진 물체는 동시에 도착하는데, ...</td>\n",
              "      <td>같은 높이에서 자유 낙하한 쇠구슬과 수평으로 던진 쇠구슬은 동시에 도달하였다. 두 ...</td>\n",
              "      <td>entailment</td>\n",
              "    </tr>\n",
              "    <tr>\n",
              "      <th>6393</th>\n",
              "      <td>높이가 같은 상태에서 자유 낙하한 물체와 수평으로 던진 물체는 동시에 도착하는데, ...</td>\n",
              "      <td>같은 높이에서 자유 낙하한 쇠구슬은 바닥에 도달했지만, 수평으로 던진 쇠구슬은 아직...</td>\n",
              "      <td>contradiction</td>\n",
              "    </tr>\n",
              "  </tbody>\n",
              "</table>\n",
              "<p>6394 rows × 3 columns</p>\n",
              "</div>\n",
              "    <div class=\"colab-df-buttons\">\n",
              "\n",
              "  <div class=\"colab-df-container\">\n",
              "    <button class=\"colab-df-convert\" onclick=\"convertToInteractive('df-f802dd4a-8b3d-4033-8068-0f39fd8e7801')\"\n",
              "            title=\"Convert this dataframe to an interactive table.\"\n",
              "            style=\"display:none;\">\n",
              "\n",
              "  <svg xmlns=\"http://www.w3.org/2000/svg\" height=\"24px\" viewBox=\"0 -960 960 960\">\n",
              "    <path d=\"M120-120v-720h720v720H120Zm60-500h600v-160H180v160Zm220 220h160v-160H400v160Zm0 220h160v-160H400v160ZM180-400h160v-160H180v160Zm440 0h160v-160H620v160ZM180-180h160v-160H180v160Zm440 0h160v-160H620v160Z\"/>\n",
              "  </svg>\n",
              "    </button>\n",
              "\n",
              "  <style>\n",
              "    .colab-df-container {\n",
              "      display:flex;\n",
              "      gap: 12px;\n",
              "    }\n",
              "\n",
              "    .colab-df-convert {\n",
              "      background-color: #E8F0FE;\n",
              "      border: none;\n",
              "      border-radius: 50%;\n",
              "      cursor: pointer;\n",
              "      display: none;\n",
              "      fill: #1967D2;\n",
              "      height: 32px;\n",
              "      padding: 0 0 0 0;\n",
              "      width: 32px;\n",
              "    }\n",
              "\n",
              "    .colab-df-convert:hover {\n",
              "      background-color: #E2EBFA;\n",
              "      box-shadow: 0px 1px 2px rgba(60, 64, 67, 0.3), 0px 1px 3px 1px rgba(60, 64, 67, 0.15);\n",
              "      fill: #174EA6;\n",
              "    }\n",
              "\n",
              "    .colab-df-buttons div {\n",
              "      margin-bottom: 4px;\n",
              "    }\n",
              "\n",
              "    [theme=dark] .colab-df-convert {\n",
              "      background-color: #3B4455;\n",
              "      fill: #D2E3FC;\n",
              "    }\n",
              "\n",
              "    [theme=dark] .colab-df-convert:hover {\n",
              "      background-color: #434B5C;\n",
              "      box-shadow: 0px 1px 3px 1px rgba(0, 0, 0, 0.15);\n",
              "      filter: drop-shadow(0px 1px 2px rgba(0, 0, 0, 0.3));\n",
              "      fill: #FFFFFF;\n",
              "    }\n",
              "  </style>\n",
              "\n",
              "    <script>\n",
              "      const buttonEl =\n",
              "        document.querySelector('#df-f802dd4a-8b3d-4033-8068-0f39fd8e7801 button.colab-df-convert');\n",
              "      buttonEl.style.display =\n",
              "        google.colab.kernel.accessAllowed ? 'block' : 'none';\n",
              "\n",
              "      async function convertToInteractive(key) {\n",
              "        const element = document.querySelector('#df-f802dd4a-8b3d-4033-8068-0f39fd8e7801');\n",
              "        const dataTable =\n",
              "          await google.colab.kernel.invokeFunction('convertToInteractive',\n",
              "                                                    [key], {});\n",
              "        if (!dataTable) return;\n",
              "\n",
              "        const docLinkHtml = 'Like what you see? Visit the ' +\n",
              "          '<a target=\"_blank\" href=https://colab.research.google.com/notebooks/data_table.ipynb>data table notebook</a>'\n",
              "          + ' to learn more about interactive tables.';\n",
              "        element.innerHTML = '';\n",
              "        dataTable['output_type'] = 'display_data';\n",
              "        await google.colab.output.renderOutput(dataTable, element);\n",
              "        const docLink = document.createElement('div');\n",
              "        docLink.innerHTML = docLinkHtml;\n",
              "        element.appendChild(docLink);\n",
              "      }\n",
              "    </script>\n",
              "  </div>\n",
              "\n",
              "\n",
              "<div id=\"df-d23542e9-237a-4661-a3e2-26d555630f0f\">\n",
              "  <button class=\"colab-df-quickchart\" onclick=\"quickchart('df-d23542e9-237a-4661-a3e2-26d555630f0f')\"\n",
              "            title=\"Suggest charts\"\n",
              "            style=\"display:none;\">\n",
              "\n",
              "<svg xmlns=\"http://www.w3.org/2000/svg\" height=\"24px\"viewBox=\"0 0 24 24\"\n",
              "     width=\"24px\">\n",
              "    <g>\n",
              "        <path d=\"M19 3H5c-1.1 0-2 .9-2 2v14c0 1.1.9 2 2 2h14c1.1 0 2-.9 2-2V5c0-1.1-.9-2-2-2zM9 17H7v-7h2v7zm4 0h-2V7h2v10zm4 0h-2v-4h2v4z\"/>\n",
              "    </g>\n",
              "</svg>\n",
              "  </button>\n",
              "\n",
              "<style>\n",
              "  .colab-df-quickchart {\n",
              "      --bg-color: #E8F0FE;\n",
              "      --fill-color: #1967D2;\n",
              "      --hover-bg-color: #E2EBFA;\n",
              "      --hover-fill-color: #174EA6;\n",
              "      --disabled-fill-color: #AAA;\n",
              "      --disabled-bg-color: #DDD;\n",
              "  }\n",
              "\n",
              "  [theme=dark] .colab-df-quickchart {\n",
              "      --bg-color: #3B4455;\n",
              "      --fill-color: #D2E3FC;\n",
              "      --hover-bg-color: #434B5C;\n",
              "      --hover-fill-color: #FFFFFF;\n",
              "      --disabled-bg-color: #3B4455;\n",
              "      --disabled-fill-color: #666;\n",
              "  }\n",
              "\n",
              "  .colab-df-quickchart {\n",
              "    background-color: var(--bg-color);\n",
              "    border: none;\n",
              "    border-radius: 50%;\n",
              "    cursor: pointer;\n",
              "    display: none;\n",
              "    fill: var(--fill-color);\n",
              "    height: 32px;\n",
              "    padding: 0;\n",
              "    width: 32px;\n",
              "  }\n",
              "\n",
              "  .colab-df-quickchart:hover {\n",
              "    background-color: var(--hover-bg-color);\n",
              "    box-shadow: 0 1px 2px rgba(60, 64, 67, 0.3), 0 1px 3px 1px rgba(60, 64, 67, 0.15);\n",
              "    fill: var(--button-hover-fill-color);\n",
              "  }\n",
              "\n",
              "  .colab-df-quickchart-complete:disabled,\n",
              "  .colab-df-quickchart-complete:disabled:hover {\n",
              "    background-color: var(--disabled-bg-color);\n",
              "    fill: var(--disabled-fill-color);\n",
              "    box-shadow: none;\n",
              "  }\n",
              "\n",
              "  .colab-df-spinner {\n",
              "    border: 2px solid var(--fill-color);\n",
              "    border-color: transparent;\n",
              "    border-bottom-color: var(--fill-color);\n",
              "    animation:\n",
              "      spin 1s steps(1) infinite;\n",
              "  }\n",
              "\n",
              "  @keyframes spin {\n",
              "    0% {\n",
              "      border-color: transparent;\n",
              "      border-bottom-color: var(--fill-color);\n",
              "      border-left-color: var(--fill-color);\n",
              "    }\n",
              "    20% {\n",
              "      border-color: transparent;\n",
              "      border-left-color: var(--fill-color);\n",
              "      border-top-color: var(--fill-color);\n",
              "    }\n",
              "    30% {\n",
              "      border-color: transparent;\n",
              "      border-left-color: var(--fill-color);\n",
              "      border-top-color: var(--fill-color);\n",
              "      border-right-color: var(--fill-color);\n",
              "    }\n",
              "    40% {\n",
              "      border-color: transparent;\n",
              "      border-right-color: var(--fill-color);\n",
              "      border-top-color: var(--fill-color);\n",
              "    }\n",
              "    60% {\n",
              "      border-color: transparent;\n",
              "      border-right-color: var(--fill-color);\n",
              "    }\n",
              "    80% {\n",
              "      border-color: transparent;\n",
              "      border-right-color: var(--fill-color);\n",
              "      border-bottom-color: var(--fill-color);\n",
              "    }\n",
              "    90% {\n",
              "      border-color: transparent;\n",
              "      border-bottom-color: var(--fill-color);\n",
              "    }\n",
              "  }\n",
              "</style>\n",
              "\n",
              "  <script>\n",
              "    async function quickchart(key) {\n",
              "      const quickchartButtonEl =\n",
              "        document.querySelector('#' + key + ' button');\n",
              "      quickchartButtonEl.disabled = true;  // To prevent multiple clicks.\n",
              "      quickchartButtonEl.classList.add('colab-df-spinner');\n",
              "      try {\n",
              "        const charts = await google.colab.kernel.invokeFunction(\n",
              "            'suggestCharts', [key], {});\n",
              "      } catch (error) {\n",
              "        console.error('Error during call to suggestCharts:', error);\n",
              "      }\n",
              "      quickchartButtonEl.classList.remove('colab-df-spinner');\n",
              "      quickchartButtonEl.classList.add('colab-df-quickchart-complete');\n",
              "    }\n",
              "    (() => {\n",
              "      let quickchartButtonEl =\n",
              "        document.querySelector('#df-d23542e9-237a-4661-a3e2-26d555630f0f button');\n",
              "      quickchartButtonEl.style.display =\n",
              "        google.colab.kernel.accessAllowed ? 'block' : 'none';\n",
              "    })();\n",
              "  </script>\n",
              "</div>\n",
              "    </div>\n",
              "  </div>\n"
            ]
          },
          "metadata": {},
          "execution_count": 11
        }
      ]
    },
    {
      "cell_type": "code",
      "execution_count": 12,
      "metadata": {
        "id": "2UCOpSeHWarS"
      },
      "outputs": [],
      "source": [
        "# transform to Triplet format\n",
        "\n",
        "def make_nli_triplet_wa3i(dataset):\n",
        "    train_data = {}\n",
        "\n",
        "    def add_to_samples(sent1, sent2, label):\n",
        "        if sent1 not in train_data:\n",
        "            train_data[sent1] = {'contradiction': set(), 'entailment': set(), 'neutral': set()}\n",
        "        train_data[sent1][label].add(sent2)\n",
        "\n",
        "    for i, row in dataset.iterrows():\n",
        "        sent1 = str(row['sentence1']).strip()\n",
        "        sent2 = str(row['sentence2']).strip()\n",
        "        label = row['gold_label'].strip()\n",
        "\n",
        "        add_to_samples(sent1, sent2, label)\n",
        "\n",
        "    # transform to InputExamples\n",
        "    added_triplets = set()  # Set to keep track of added triplets\n",
        "    input_examples=[]\n",
        "    for sent1, others in train_data.items():\n",
        "        if len(others['entailment']) > 0 and len(others['contradiction']) > 0:\n",
        "            entailment_list = list(others['entailment'])\n",
        "            contradiction_list = list(others['contradiction'])\n",
        "\n",
        "            # Shuffle the lists to randomize the selection\n",
        "            random.shuffle(entailment_list)\n",
        "            random.shuffle(contradiction_list)\n",
        "\n",
        "            # Use the same anchor for multiple triplets\n",
        "            anchor = sent1\n",
        "\n",
        "            for _ in range(15):  # Adjust the number of triplets as needed\n",
        "                ent = random.choice(entailment_list)\n",
        "                con = random.choice(contradiction_list)\n",
        "\n",
        "                 # Check if the triplet is not already in the set\n",
        "                triplet = (anchor, ent, con)\n",
        "                if triplet not in added_triplets:\n",
        "                    input_examples.append(InputExample(texts=[anchor, ent, con]))\n",
        "                    added_triplets.add(triplet)\n",
        "    print(len(added_triplets))\n",
        "    print(len(input_examples))\n",
        "    return input_examples\n"
      ]
    },
    {
      "cell_type": "code",
      "source": [
        "def make_nli_triplet_custom(dataset):\n",
        "    # transform to Triplet format\n",
        "    train_data = {}\n",
        "\n",
        "    def add_to_samples(sent1, sent2, label):\n",
        "        if sent1 not in train_data:\n",
        "            train_data[sent1] = {'contradiction': set(), 'entailment': set(), 'neutral': set()}\n",
        "        train_data[sent1][label].add(sent2)\n",
        "\n",
        "    for i, row in dataset.iterrows():\n",
        "        sent1 = str(row['sentence1']).strip()\n",
        "        sent2 = str(row['sentence2']).strip()\n",
        "        label = str(row['gold_label']).strip()\n",
        "\n",
        "        add_to_samples(sent1, sent2, label)\n",
        "        add_to_samples(sent2, sent1, label)  # Also add the opposite\n",
        "\n",
        "    # transform to InputExamples\n",
        "    input_examples = []\n",
        "    for sent1, others in train_data.items():\n",
        "        if len(others['entailment']) > 0 and len(others['contradiction']) > 0:\n",
        "            input_examples.append(InputExample(texts=[sent1, random.choice(list(others['entailment'])), random.choice(list(others['contradiction']))]))\n",
        "            input_examples.append(InputExample(texts=[random.choice(list(others['entailment'])), sent1, random.choice(list(others['contradiction']))]))\n",
        "\n",
        "    return input_examples"
      ],
      "metadata": {
        "id": "knVHwGcQTFjf"
      },
      "execution_count": 13,
      "outputs": []
    },
    {
      "cell_type": "code",
      "execution_count": 14,
      "metadata": {
        "colab": {
          "base_uri": "https://localhost:8080/"
        },
        "id": "0XUHdFYsWh5O",
        "outputId": "70d88253-5788-4a88-f926-004f9e3d1865"
      },
      "outputs": [
        {
          "output_type": "stream",
          "name": "stdout",
          "text": [
            "1446\n",
            "1446\n"
          ]
        },
        {
          "output_type": "execute_result",
          "data": {
            "text/plain": [
              "['생산자가 없어진다면 생산자를 먹는 소비자는 먹이가 없어서 죽게 되고, 그 다음 단계의 소비자도 먹이가 없어서 죽게 되어 생태계의 균형이 깨진다.',\n",
              " '생산자와 소비자가 서로 균형을 이루어 생태계가 형성되는 것인데 풀과 나무같은 생산자가 없어진다면 소비자인 동물들이 소비만을 계속 하다가 결국 생산되는 것이 없어 더 이상 소비할 것들이 없어져 생태계가 혼란해지기 때문에 균형을 맞추기 위해서 생산자가 생태계에 필요하다.',\n",
              " '우리에게 산소를 줘야하기 때문']"
            ]
          },
          "metadata": {},
          "execution_count": 14
        }
      ],
      "source": [
        "wa3i_dataset = make_nli_triplet_wa3i(wa3i_data)\n",
        "wa3i_dataset[0].texts"
      ]
    },
    {
      "cell_type": "code",
      "source": [
        "custom_dataset = make_nli_triplet_custom(custom_data)\n",
        "custom_dataset[0].texts"
      ],
      "metadata": {
        "colab": {
          "base_uri": "https://localhost:8080/"
        },
        "id": "V69-_V4uhUTI",
        "outputId": "2c83f2fd-2e54-4ed7-e836-b073171e1946"
      },
      "execution_count": 15,
      "outputs": [
        {
          "output_type": "execute_result",
          "data": {
            "text/plain": [
              "['중력의 크기는 질량에 비례하고, 자유 낙하 운동에서 낙하 시간은 높이에 의해 결정된다.',\n",
              " '중력의 크기는 질량에 비례하므로 무거운 물체일수록 큰 중력을 경험한다. 낙하 시간은 높이에 따라 결정된다.',\n",
              " '중력의 크기는 질량에 비례하며, 자유 낙하 운동에서 낙하 시간은 높이와 상관없이 동일하다.']"
            ]
          },
          "metadata": {},
          "execution_count": 15
        }
      ]
    },
    {
      "cell_type": "code",
      "source": [
        "print(f'triplet wa3i: {len(wa3i_dataset)}')\n",
        "print(f'triplet custom: {len(custom_dataset)}')"
      ],
      "metadata": {
        "colab": {
          "base_uri": "https://localhost:8080/"
        },
        "id": "ZmkcXQ1Z9NCl",
        "outputId": "67bfa4d5-d912-4ebc-8ab6-46a1cebdb85a"
      },
      "execution_count": 16,
      "outputs": [
        {
          "output_type": "stream",
          "name": "stdout",
          "text": [
            "triplet wa3i: 1446\n",
            "triplet custom: 4724\n"
          ]
        }
      ]
    },
    {
      "cell_type": "code",
      "source": [
        "# (wa3i dataset) 6:2:2 split\n",
        "\n",
        "dataset_size = len(wa3i_dataset)\n",
        "wa3i_train_size = int(dataset_size * 0.6)\n",
        "wa3i_validation_size = int(dataset_size * 0.2)\n",
        "wa3i_test_size = dataset_size - wa3i_train_size - wa3i_validation_size\n",
        "\n",
        "wa3i_train, wa3i_valid, wa3i_test = random_split(wa3i_dataset, [wa3i_train_size, wa3i_validation_size, wa3i_test_size])\n",
        "\n",
        "print(f\"Training Data Size : {len(wa3i_train)}\")\n",
        "print(f\"Validation Data Size : {len(wa3i_valid)}\")\n",
        "print(f\"Testing Data Size : {len(wa3i_test)}\")"
      ],
      "metadata": {
        "colab": {
          "base_uri": "https://localhost:8080/"
        },
        "id": "UXXPpitQ67Wm",
        "outputId": "d97dbc83-50a5-40b8-f44e-487699d663ad"
      },
      "execution_count": 17,
      "outputs": [
        {
          "output_type": "stream",
          "name": "stdout",
          "text": [
            "Training Data Size : 867\n",
            "Validation Data Size : 289\n",
            "Testing Data Size : 290\n"
          ]
        }
      ]
    },
    {
      "cell_type": "code",
      "source": [
        "# (custom dataset) 6:2:2 split\n",
        "\n",
        "dataset_size = len(custom_dataset)\n",
        "custom_train_size = int(dataset_size * 0.6)\n",
        "custom_validation_size = int(dataset_size * 0.2)\n",
        "custom_test_size = dataset_size - custom_train_size - custom_validation_size\n",
        "\n",
        "custom_train, custom_valid, custom_test = random_split(custom_dataset, [custom_train_size, custom_validation_size, custom_test_size])\n",
        "\n",
        "print(f\"Training Data Size : {len(custom_train)}\")\n",
        "print(f\"Validation Data Size : {len(custom_valid)}\")\n",
        "print(f\"Testing Data Size : {len(custom_test)}\")"
      ],
      "metadata": {
        "colab": {
          "base_uri": "https://localhost:8080/"
        },
        "id": "MjQorHqriBVK",
        "outputId": "20b4a377-9866-45c7-901e-48b03e7c4e2b"
      },
      "execution_count": 18,
      "outputs": [
        {
          "output_type": "stream",
          "name": "stdout",
          "text": [
            "Training Data Size : 2834\n",
            "Validation Data Size : 944\n",
            "Testing Data Size : 946\n"
          ]
        }
      ]
    },
    {
      "cell_type": "code",
      "source": [
        "# merge dataset\n",
        "\n",
        "train_dataset = wa3i_train + custom_train\n",
        "validation_dataset = wa3i_valid + custom_valid\n",
        "test_dataset = wa3i_test + custom_test\n",
        "print(f\"Training Data Size : {len(train_dataset)}\")\n",
        "print(f\"Validation Data Size : {len(validation_dataset)}\")\n",
        "print(f\"Testing Data Size : {len(test_dataset)}\")"
      ],
      "metadata": {
        "colab": {
          "base_uri": "https://localhost:8080/"
        },
        "id": "ZSr6pDPMiKN7",
        "outputId": "9b3f24e6-b622-41e7-f1a6-a872e8e0480d"
      },
      "execution_count": 19,
      "outputs": [
        {
          "output_type": "stream",
          "name": "stdout",
          "text": [
            "Training Data Size : 3701\n",
            "Validation Data Size : 1233\n",
            "Testing Data Size : 1236\n"
          ]
        }
      ]
    },
    {
      "cell_type": "markdown",
      "source": [
        "# result with test data\n"
      ],
      "metadata": {
        "id": "hnG9adchqKi7"
      }
    },
    {
      "cell_type": "code",
      "source": [
        "import torch\n",
        "\n",
        "model = torch.load('/content/drive/MyDrive/종설/KoSimCSE-roberta-finetuning-model-2023-11-13.pt')\n",
        "model.eval()"
      ],
      "metadata": {
        "colab": {
          "base_uri": "https://localhost:8080/"
        },
        "id": "R35NP6OCh_-B",
        "outputId": "bf1c0996-185f-451d-e7f4-58219ff298fa"
      },
      "execution_count": 21,
      "outputs": [
        {
          "output_type": "execute_result",
          "data": {
            "text/plain": [
              "SentenceTransformer(\n",
              "  (0): Transformer({'max_seq_length': 150, 'do_lower_case': True}) with Transformer model: RobertaModel \n",
              "  (1): Pooling({'word_embedding_dimension': 768, 'pooling_mode_cls_token': False, 'pooling_mode_mean_tokens': True, 'pooling_mode_max_tokens': False, 'pooling_mode_mean_sqrt_len_tokens': False})\n",
              ")"
            ]
          },
          "metadata": {},
          "execution_count": 21
        }
      ]
    },
    {
      "cell_type": "code",
      "source": [
        "# 빈 리스트를 생성하여 원래 데이터셋 형식으로 변환된 데이터를 저장\n",
        "nli_test_data = []\n",
        "\n",
        "# 각 트리플릿을 원래 데이터셋 형식으로 변환\n",
        "for input_example in test_dataset:\n",
        "    anchor_sentence = input_example.texts[0]\n",
        "    positive_sentence = input_example.texts[1]\n",
        "    negative_sentence = input_example.texts[2]\n",
        "\n",
        "    # 긍정적 예를 1로 레이블링\n",
        "    nli_test_data.append({'sentence1': anchor_sentence, 'sentence2': positive_sentence, 'gold_label': 1})\n",
        "\n",
        "    # 부정적 예를 0으로 레이블링\n",
        "    nli_test_data.append({'sentence1': anchor_sentence, 'sentence2': negative_sentence, 'gold_label': 0})\n",
        "\n",
        "# original_format_data에는 원래 데이터셋 형식으로 변환된 데이터가 저장됨"
      ],
      "metadata": {
        "id": "3-nJj-0R62By"
      },
      "execution_count": 31,
      "outputs": []
    },
    {
      "cell_type": "code",
      "source": [
        "correct = []\n",
        "wrong = []\n",
        "for i in range(len(nli_test_data)):\n",
        "  # 두 문장을 모델로 임베딩\n",
        "  embeddings = model.encode([nli_test_data[i]['sentence1'], nli_test_data[i]['sentence2']], convert_to_tensor=True)\n",
        "\n",
        "  # 코사인 유사도 계산\n",
        "  cosine_score = util.pytorch_cos_sim(embeddings[0], embeddings[1])\n",
        "\n",
        "  if nli_test_data[i]['gold_label'] == 1:\n",
        "    correct.append(cosine_score.item())\n",
        "  elif nli_test_data[i]['gold_label'] == 0:\n",
        "    wrong.append(cosine_score.item())"
      ],
      "metadata": {
        "id": "AFDyxmcijjlr"
      },
      "execution_count": 52,
      "outputs": []
    },
    {
      "cell_type": "code",
      "source": [
        "# 맞은 데이터의 코사인 유사도 값\n",
        "correct.sort()\n",
        "print(correct[:30])"
      ],
      "metadata": {
        "colab": {
          "base_uri": "https://localhost:8080/"
        },
        "id": "n9O6rlKmqQ-4",
        "outputId": "3e42b9b7-54ee-40f3-b6eb-4d1dc185e478"
      },
      "execution_count": 75,
      "outputs": [
        {
          "output_type": "stream",
          "name": "stdout",
          "text": [
            "[-0.04062197357416153, 0.19489642977714539, 0.3072137236595154, 0.31228020787239075, 0.4167463779449463, 0.46477627754211426, 0.47899770736694336, 0.48045259714126587, 0.4874470829963684, 0.48864102363586426, 0.4888305962085724, 0.49203187227249146, 0.49616187810897827, 0.5003280639648438, 0.5054144263267517, 0.521419882774353, 0.5256605744361877, 0.5371204018592834, 0.5407187938690186, 0.5460547804832458, 0.5503333806991577, 0.551413357257843, 0.5531086921691895, 0.5553039312362671, 0.5594202876091003, 0.559697687625885, 0.5621190667152405, 0.5622211694717407, 0.5655529499053955, 0.5780441761016846]\n"
          ]
        }
      ]
    },
    {
      "cell_type": "code",
      "source": [
        "# 틀린 데이터의 코사인 유사도 값\n",
        "wrong.sort(reverse = True)\n",
        "print(wrong[:50])"
      ],
      "metadata": {
        "colab": {
          "base_uri": "https://localhost:8080/"
        },
        "id": "UOAtjYTzqb8d",
        "outputId": "64baeb8e-8c5f-48f9-dc71-ab8d26e2cc91"
      },
      "execution_count": 78,
      "outputs": [
        {
          "output_type": "stream",
          "name": "stdout",
          "text": [
            "[0.9748647212982178, 0.8956493139266968, 0.8609720468521118, 0.8314546346664429, 0.7876226902008057, 0.7707740068435669, 0.7229427099227905, 0.698046088218689, 0.632935106754303, 0.6275865435600281, 0.6111389994621277, 0.597237765789032, 0.5965058207511902, 0.5823497176170349, 0.5781562328338623, 0.5563143491744995, 0.5432947278022766, 0.5064911842346191, 0.5029284358024597, 0.5001229643821716, 0.48880285024642944, 0.4852570593357086, 0.48305070400238037, 0.4740464687347412, 0.4688747823238373, 0.4671266973018646, 0.4671266973018646, 0.4629040062427521, 0.4628711938858032, 0.4626823961734772, 0.4612148702144623, 0.46005967259407043, 0.4579899311065674, 0.4579899311065674, 0.4579899311065674, 0.4579899311065674, 0.4579899311065674, 0.4579899311065674, 0.45750436186790466, 0.4551812708377838, 0.45082759857177734, 0.45066994428634644, 0.45014524459838867, 0.45014524459838867, 0.45014524459838867, 0.4472842812538147, 0.4453703463077545, 0.4435180723667145, 0.4335981607437134, 0.4318823516368866]\n"
          ]
        }
      ]
    },
    {
      "cell_type": "code",
      "source": [
        "# 맞은 데이터 구간별 빈도수 그래프 (0.0 ~ 1.2)\n",
        "\n",
        "import matplotlib.pyplot as plt\n",
        "\n",
        "frequency = [0] * 12\n",
        "\n",
        "for number in correct:\n",
        "  mapped_number = min(max(number, 0), 1)\n",
        "  index = int(mapped_number * 10)\n",
        "  frequency[index] += 1\n",
        "\n",
        "\n",
        "x = [i / 10 for i in range(1, 13)]\n",
        "plt.bar(x, frequency, width=0.05)\n",
        "plt.xlabel('cosine similarity')\n",
        "plt.title('cosine similarity with correct label')\n",
        "plt.ylim(0,700)\n",
        "plt.show()"
      ],
      "metadata": {
        "colab": {
          "base_uri": "https://localhost:8080/",
          "height": 472
        },
        "id": "Ac0yJXznmbNq",
        "outputId": "2bd80ec3-198a-4289-b4f7-35bec7d78c2a"
      },
      "execution_count": 71,
      "outputs": [
        {
          "output_type": "display_data",
          "data": {
            "text/plain": [
              "<Figure size 640x480 with 1 Axes>"
            ],
            "image/png": "[encoded data removed]"
          },
          "metadata": {}
        }
      ]
    },
    {
      "cell_type": "code",
      "source": [
        "# 틀린 데이터 구간별 빈도수 그래프 (0.0 ~ 1.2)\n",
        "\n",
        "import matplotlib.pyplot as plt\n",
        "\n",
        "frequency = [0] * 12\n",
        "\n",
        "for number in wrong:\n",
        "  mapped_number = min(max(number, 0), 1)\n",
        "  index = int(mapped_number * 10)\n",
        "  frequency[index] += 1\n",
        "\n",
        "\n",
        "x = [i / 10 for i in range(1, 13)]\n",
        "plt.bar(x, frequency, width=0.05)\n",
        "plt.xlabel('cosine similarity')\n",
        "plt.title('cosine similarity with wrong label')\n",
        "plt.ylim(0,1000)\n",
        "\n",
        "plt.show()"
      ],
      "metadata": {
        "colab": {
          "base_uri": "https://localhost:8080/",
          "height": 472
        },
        "id": "0obSQTV4ncF8",
        "outputId": "f74abaa3-a786-4887-e09a-312db14e6aec"
      },
      "execution_count": 69,
      "outputs": [
        {
          "output_type": "display_data",
          "data": {
            "text/plain": [
              "<Figure size 640x480 with 1 Axes>"
            ],
            "image/png": "[encoded data removed]"
          },
          "metadata": {}
        }
      ]
    },
    {
      "cell_type": "markdown",
      "source": [
        "\n",
        "#Test"
      ],
      "metadata": {
        "id": "hJMLxs4Sk38m"
      }
    },
    {
      "cell_type": "code",
      "source": [
        "import pandas as pd\n",
        "\n",
        "\n",
        "# https://wikidocs.net/154530\n",
        "import numpy as np\n",
        "import pandas as pd\n",
        "import urllib.request\n",
        "from sentence_transformers import SentenceTransformer\n",
        "\n",
        "sbert_kor = SentenceTransformer('/content/drive/MyDrive/종설/KoSimCSE-roberta-2023-11-13_11-55-19')\n",
        "\n",
        "from numpy import dot\n",
        "from numpy.linalg import norm\n",
        "\n",
        "\n",
        "def get_similarity(ans, right_ans, use=\"cosine\"):\n",
        "    # Cosine Similarity\n",
        "    if use == \"cosine\":\n",
        "        return dot(ans, right_ans) / (norm(ans) * norm(right_ans))\n",
        "\n",
        "    # Euclidean\n",
        "    if use == \"euclidean\":\n",
        "        if norm(ans - right_ans) == norm(ans - right_ans):\n",
        "            return norm(ans - right_ans)\n",
        "        else:\n",
        "            return -1\n",
        "\n",
        "    # Pearson\n",
        "    if use == \"pearson\":\n",
        "        return dot((ans - np.mean(ans)), (right_ans - np.mean(right_ans))) / (\n",
        "                    (norm(ans - np.mean(ans))) * (norm(right_ans - np.mean(right_ans))))\n",
        "\n",
        "\n",
        "\n",
        "\n",
        "nli_test_data\n",
        "# original_format_data 리스트를 Pandas 데이터프레임으로 변환\n",
        "nli_test_data = pd.DataFrame(nli_test_data)\n",
        "prediction = []\n",
        "for data in nli_test_data.iloc:\n",
        "    right_ans = data['sentence1']\n",
        "    student_ans = data['sentence2']\n",
        "    label = data['gold_label']\n",
        "    # print(right_ans, '//', student_ans, '//', label)\n",
        "\n",
        "    right_ans_emb = sbert_kor.encode([right_ans])\n",
        "    stu_ans_emb = sbert_kor.encode([student_ans])\n",
        "\n",
        "    sim = get_similarity(right_ans_emb[0], stu_ans_emb[0], use=\"cosine\")\n",
        "    prediction.append(sim)\n",
        "\n",
        "nli_test_data['predict(cosine_sim)'] = prediction\n",
        "\n",
        "\n",
        "# %%\n",
        "\n",
        "def threshhold_num(n=0.6):\n",
        "    def threshold(pred):\n",
        "        if pred > n:\n",
        "            return 1\n",
        "        elif pred <= n:\n",
        "            return 0\n",
        "\n",
        "    return threshold\n",
        "\n",
        "\n",
        "nli_test_data['>0.1'] = nli_test_data['predict(cosine_sim)'].apply(threshhold_num(0.1))\n",
        "nli_test_data['>0.2'] = nli_test_data['predict(cosine_sim)'].apply(threshhold_num(0.2))\n",
        "nli_test_data['>0.3'] = nli_test_data['predict(cosine_sim)'].apply(threshhold_num(0.3))\n",
        "nli_test_data['>0.4'] = nli_test_data['predict(cosine_sim)'].apply(threshhold_num(0.4))\n",
        "nli_test_data['>0.5'] = nli_test_data['predict(cosine_sim)'].apply(threshhold_num(0.5))\n",
        "nli_test_data['>0.6'] = nli_test_data['predict(cosine_sim)'].apply(threshhold_num(0.6))\n",
        "nli_test_data['>0.7'] = nli_test_data['predict(cosine_sim)'].apply(threshhold_num(0.7))\n",
        "nli_test_data['>0.8'] = nli_test_data['predict(cosine_sim)'].apply(threshhold_num(0.8))\n",
        "nli_test_data['>0.9'] = nli_test_data['predict(cosine_sim)'].apply(threshhold_num(0.9))\n",
        "# df_valid_v1.head(50)\n",
        "\n",
        "# %%\n",
        "\n",
        "nli_test_data.to_csv('./test.csv')\n",
        "\n",
        "# %%\n",
        "def get_acc(thresh):\n",
        "    cnt = 0\n",
        "    for idx in range(len(nli_test_data)):\n",
        "      if nli_test_data['gold_label'][idx] == nli_test_data[f'>{thresh}'][idx]:\n",
        "        cnt += 1\n",
        "    print(\"threshold\",thresh,\" accuracy:\",cnt / len(nli_test_data))\n",
        "\n"
      ],
      "metadata": {
        "id": "hhUuZplYlBv_"
      },
      "execution_count": 95,
      "outputs": []
    },
    {
      "cell_type": "code",
      "source": [
        "for i in range(1, 10):\n",
        "    get_acc(i/10)"
      ],
      "metadata": {
        "colab": {
          "base_uri": "https://localhost:8080/"
        },
        "id": "YEdhHLSsufVn",
        "outputId": "439432f0-ade7-440d-b598-59fb4aa7dbff"
      },
      "execution_count": 91,
      "outputs": [
        {
          "output_type": "stream",
          "name": "stdout",
          "text": [
            "threshold 0.1  accuracy: 0.8033980582524272\n",
            "threshold 0.2  accuracy: 0.8830906148867314\n",
            "threshold 0.3  accuracy: 0.9344660194174758\n",
            "threshold 0.4  accuracy: 0.9724919093851133\n",
            "threshold 0.5  accuracy: 0.9870550161812298\n",
            "threshold 0.6  accuracy: 0.9785598705501618\n",
            "threshold 0.7  accuracy: 0.9603559870550162\n",
            "threshold 0.8  accuracy: 0.9166666666666666\n",
            "threshold 0.9  accuracy: 0.7637540453074434\n"
          ]
        }
      ]
    },
    {
      "cell_type": "code",
      "source": [
        "from sklearn.metrics import precision_score, recall_score, f1_score, confusion_matrix\n",
        "import matplotlib.pyplot as plt\n",
        "from sklearn.metrics import roc_curve, roc_auc_score\n",
        "\n",
        "# 예측 레이블과 실제 레이블 가져오기\n",
        "predicted_labels = nli_test_data['>0.6']  # 이진 분류 예측 레이블\n",
        "true_labels = nli_test_data['gold_label']\n",
        "\n",
        "# 정밀도 계산\n",
        "precision = precision_score(true_labels, predicted_labels)\n",
        "\n",
        "# 재현율 계산\n",
        "recall = recall_score(true_labels, predicted_labels)\n",
        "\n",
        "# F1 점수 계산\n",
        "f1 = f1_score(true_labels, predicted_labels)\n",
        "\n",
        "# 혼동 행렬 생성\n",
        "confusion = confusion_matrix(true_labels, predicted_labels)\n",
        "\n",
        "print(\"정밀도:\", precision)\n",
        "print(\"재현율:\", recall)\n",
        "print(\"F1 점수:\", f1)\n",
        "print(\"혼동 행렬:\\n\", confusion)\n",
        "\n",
        "# 실제 레이블과 예측 확률을 사용하여 ROC 곡선 및 AUC 값을 계산\n",
        "fpr, tpr, thresholds = roc_curve(true_labels, predicted_labels)\n",
        "auc = roc_auc_score(true_labels, predicted_labels)\n",
        "\n",
        "# ROC 곡선 그리기\n",
        "plt.figure()\n",
        "plt.plot(fpr, tpr, color='darkorange', lw=2, label='ROC curve (area = %0.2f)' % auc)\n",
        "plt.plot([0, 1], [0, 1], color='navy', lw=2, linestyle='--')\n",
        "plt.xlim([0.0, 1.0])\n",
        "plt.ylim([0.0, 1.05])\n",
        "plt.xlabel('False Positive Rate')\n",
        "plt.ylabel('True Positive Rate')\n",
        "plt.title('Receiver Operating Characteristic')\n",
        "plt.legend(loc='lower right')\n",
        "plt.show()"
      ],
      "metadata": {
        "colab": {
          "base_uri": "https://localhost:8080/",
          "height": 579
        },
        "id": "TyXtVqq57IWh",
        "outputId": "b679f5ff-0870-4008-eea3-784813474683"
      },
      "execution_count": 88,
      "outputs": [
        {
          "output_type": "stream",
          "name": "stdout",
          "text": [
            "정밀도: 0.9908713692946058\n",
            "재현율: 0.9660194174757282\n",
            "F1 점수: 0.9782875870544859\n",
            "혼동 행렬:\n",
            " [[1225   11]\n",
            " [  42 1194]]\n"
          ]
        },
        {
          "output_type": "display_data",
          "data": {
            "text/plain": [
              "<Figure size 640x480 with 1 Axes>"
            ],
            "image/png": "[encoded data removed]"
          },
          "metadata": {}
        }
      ]
    },
    {
      "cell_type": "code",
      "source": [
        "import seaborn as sns\n",
        "\n",
        "# 혼동 행렬\n",
        "for i in range(1, 10):\n",
        "  num = '>' + str(i/10)\n",
        "  predicted_labels = nli_test_data[num]\n",
        "  true_labels = nli_test_data['gold_label']\n",
        "\n",
        "  print(f'threshold {i/10} 혼동 행렬')\n",
        "  cm = confusion_matrix(true_labels, predicted_labels)\n",
        "\n",
        "  sns.heatmap(cm, annot=True, cmap='Blues', fmt='.0f')\n",
        "  plt.xlabel('Predicted')\n",
        "  plt.ylabel('True')\n",
        "  plt.show()"
      ],
      "metadata": {
        "colab": {
          "base_uri": "https://localhost:8080/",
          "height": 1000
        },
        "id": "z1Fw-HhRgbjg",
        "outputId": "995b83f7-e048-4e33-ac04-32cc791684d2"
      },
      "execution_count": 94,
      "outputs": [
        {
          "output_type": "stream",
          "name": "stdout",
          "text": [
            "threshold 0.1 혼동 행렬\n"
          ]
        },
        {
          "output_type": "display_data",
          "data": {
            "text/plain": [
              "<Figure size 640x480 with 2 Axes>"
            ],
            "image/png": "[encoded data removed]"
          },
          "metadata": {}
        },
        {
          "output_type": "stream",
          "name": "stdout",
          "text": [
            "threshold 0.2 혼동 행렬\n"
          ]
        },
        {
          "output_type": "display_data",
          "data": {
            "text/plain": [
              "<Figure size 640x480 with 2 Axes>"
            ],
            "image/png": "[encoded data removed]"
          },
          "metadata": {}
        },
        {
          "output_type": "stream",
          "name": "stdout",
          "text": [
            "threshold 0.3 혼동 행렬\n"
          ]
        },
        {
          "output_type": "display_data",
          "data": {
            "text/plain": [
              "<Figure size 640x480 with 2 Axes>"
            ],
            "image/png": "[encoded data removed]"
          },
          "metadata": {}
        },
        {
          "output_type": "stream",
          "name": "stdout",
          "text": [
            "threshold 0.4 혼동 행렬\n"
          ]
        },
        {
          "output_type": "display_data",
          "data": {
            "text/plain": [
              "<Figure size 640x480 with 2 Axes>"
            ],
            "image/png": "[encoded data removed]"
          },
          "metadata": {}
        },
        {
          "output_type": "stream",
          "name": "stdout",
          "text": [
            "threshold 0.5 혼동 행렬\n"
          ]
        },
        {
          "output_type": "display_data",
          "data": {
            "text/plain": [
              "<Figure size 640x480 with 2 Axes>"
            ],
            "image/png": "[encoded data removed]"
          },
          "metadata": {}
        },
        {
          "output_type": "stream",
          "name": "stdout",
          "text": [
            "threshold 0.6 혼동 행렬\n"
          ]
        },
        {
          "output_type": "display_data",
          "data": {
            "text/plain": [
              "<Figure size 640x480 with 2 Axes>"
            ],
            "image/png": "[encoded data removed]"
          },
          "metadata": {}
        },
        {
          "output_type": "stream",
          "name": "stdout",
          "text": [
            "threshold 0.7 혼동 행렬\n"
          ]
        },
        {
          "output_type": "display_data",
          "data": {
            "text/plain": [
              "<Figure size 640x480 with 2 Axes>"
            ],
            "image/png": "[encoded data removed]"
          },
          "metadata": {}
        },
        {
          "output_type": "stream",
          "name": "stdout",
          "text": [
            "threshold 0.8 혼동 행렬\n"
          ]
        },
        {
          "output_type": "display_data",
          "data": {
            "text/plain": [
              "<Figure size 640x480 with 2 Axes>"
            ],
            "image/png": "[encoded data removed]"
          },
          "metadata": {}
        },
        {
          "output_type": "stream",
          "name": "stdout",
          "text": [
            "threshold 0.9 혼동 행렬\n"
          ]
        },
        {
          "output_type": "display_data",
          "data": {
            "text/plain": [
              "<Figure size 640x480 with 2 Axes>"
            ],
            "image/png": "[encoded data removed]"
          },
          "metadata": {}
        }
      ]
    }
  ],
  "metadata": {
    "accelerator": "GPU",
    "colab": {
      "provenance": [],
      "collapsed_sections": [
        "8K_3rnJembd0"
      ],
      "gpuType": "T4"
    },
    "kernelspec": {
      "display_name": "Python 3",
      "name": "python3"
    },
    "language_info": {
      "name": "python"
    }
  },
  "nbformat": 4,
  "nbformat_minor": 0
}
